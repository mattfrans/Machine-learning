{
 "cells": [
  {
   "cell_type": "code",
   "execution_count": 1,
   "id": "932fd567",
   "metadata": {},
   "outputs": [],
   "source": [
    "#Load libraries\n",
    "from sklearn import preprocessing\n",
    "from sklearn.model_selection import train_test_split\n",
    "import numpy as np\n",
    "from numpy import genfromtxt\n",
    "from keras.preprocessing.text import Tokenizer\n",
    "from keras import models\n",
    "from keras import layers\n",
    "import pandas as pd"
   ]
  },
  {
   "cell_type": "code",
   "execution_count": 2,
   "id": "60fb8855",
   "metadata": {
    "scrolled": true
   },
   "outputs": [
    {
     "name": "stdout",
     "output_type": "stream",
     "text": [
      "63\n"
     ]
    },
    {
     "data": {
      "text/plain": [
       "array([[56, 'housemaid', 'married', ..., 4.857, 5191.0, 'no'],\n",
       "       [57, 'services', 'married', ..., 4.857, 5191.0, 'no'],\n",
       "       [37, 'services', 'married', ..., 4.857, 5191.0, 'no'],\n",
       "       ...,\n",
       "       [56, 'retired', 'married', ..., 1.028, 4963.6, 'no'],\n",
       "       [44, 'technician', 'married', ..., 1.028, 4963.6, 'yes'],\n",
       "       [74, 'retired', 'married', ..., 1.028, 4963.6, 'no']], dtype=object)"
      ]
     },
     "execution_count": 2,
     "metadata": {},
     "output_type": "execute_result"
    }
   ],
   "source": [
    "#Load CSV file\n",
    "df = pd.read_csv(\"bank-additional-full.csv\", sep=\";\")\n",
    "data = df.values\n",
    "df = df.drop(['duration'], axis=1)\n",
    "number_of_features = 63\n",
    "print(number_of_features)\n",
    "data"
   ]
  },
  {
   "cell_type": "markdown",
   "id": "5fa6cf0c",
   "metadata": {},
   "source": [
    "# One hot encoding of all categorical values and standardizing"
   ]
  },
  {
   "cell_type": "code",
   "execution_count": 3,
   "id": "bb8af9b1",
   "metadata": {},
   "outputs": [],
   "source": [
    "#One-hot encoding of categorical values\n",
    "def encode_and_bind(original_dataframe, feature_to_encode):\n",
    "    dummies = pd.get_dummies(original_dataframe[[feature_to_encode]])\n",
    "    res = pd.concat([original_dataframe, dummies], axis=1)\n",
    "    res = res.drop([feature_to_encode], axis=1)\n",
    "    return(res)"
   ]
  },
  {
   "cell_type": "code",
   "execution_count": 4,
   "id": "fdf81920",
   "metadata": {},
   "outputs": [
    {
     "data": {
      "text/html": [
       "<div>\n",
       "<style scoped>\n",
       "    .dataframe tbody tr th:only-of-type {\n",
       "        vertical-align: middle;\n",
       "    }\n",
       "\n",
       "    .dataframe tbody tr th {\n",
       "        vertical-align: top;\n",
       "    }\n",
       "\n",
       "    .dataframe thead th {\n",
       "        text-align: right;\n",
       "    }\n",
       "</style>\n",
       "<table border=\"1\" class=\"dataframe\">\n",
       "  <thead>\n",
       "    <tr style=\"text-align: right;\">\n",
       "      <th></th>\n",
       "      <th>age</th>\n",
       "      <th>campaign</th>\n",
       "      <th>pdays</th>\n",
       "      <th>previous</th>\n",
       "      <th>emp.var.rate</th>\n",
       "      <th>cons.price.idx</th>\n",
       "      <th>cons.conf.idx</th>\n",
       "      <th>euribor3m</th>\n",
       "      <th>nr.employed</th>\n",
       "      <th>job_admin.</th>\n",
       "      <th>...</th>\n",
       "      <th>day_of_week_fri</th>\n",
       "      <th>day_of_week_mon</th>\n",
       "      <th>day_of_week_thu</th>\n",
       "      <th>day_of_week_tue</th>\n",
       "      <th>day_of_week_wed</th>\n",
       "      <th>poutcome_failure</th>\n",
       "      <th>poutcome_nonexistent</th>\n",
       "      <th>poutcome_success</th>\n",
       "      <th>y_no</th>\n",
       "      <th>y_yes</th>\n",
       "    </tr>\n",
       "  </thead>\n",
       "  <tbody>\n",
       "    <tr>\n",
       "      <th>0</th>\n",
       "      <td>56</td>\n",
       "      <td>1</td>\n",
       "      <td>999</td>\n",
       "      <td>0</td>\n",
       "      <td>1.1</td>\n",
       "      <td>93.994</td>\n",
       "      <td>-36.4</td>\n",
       "      <td>4.857</td>\n",
       "      <td>5191.0</td>\n",
       "      <td>0</td>\n",
       "      <td>...</td>\n",
       "      <td>0</td>\n",
       "      <td>1</td>\n",
       "      <td>0</td>\n",
       "      <td>0</td>\n",
       "      <td>0</td>\n",
       "      <td>0</td>\n",
       "      <td>1</td>\n",
       "      <td>0</td>\n",
       "      <td>1</td>\n",
       "      <td>0</td>\n",
       "    </tr>\n",
       "    <tr>\n",
       "      <th>1</th>\n",
       "      <td>57</td>\n",
       "      <td>1</td>\n",
       "      <td>999</td>\n",
       "      <td>0</td>\n",
       "      <td>1.1</td>\n",
       "      <td>93.994</td>\n",
       "      <td>-36.4</td>\n",
       "      <td>4.857</td>\n",
       "      <td>5191.0</td>\n",
       "      <td>0</td>\n",
       "      <td>...</td>\n",
       "      <td>0</td>\n",
       "      <td>1</td>\n",
       "      <td>0</td>\n",
       "      <td>0</td>\n",
       "      <td>0</td>\n",
       "      <td>0</td>\n",
       "      <td>1</td>\n",
       "      <td>0</td>\n",
       "      <td>1</td>\n",
       "      <td>0</td>\n",
       "    </tr>\n",
       "    <tr>\n",
       "      <th>2</th>\n",
       "      <td>37</td>\n",
       "      <td>1</td>\n",
       "      <td>999</td>\n",
       "      <td>0</td>\n",
       "      <td>1.1</td>\n",
       "      <td>93.994</td>\n",
       "      <td>-36.4</td>\n",
       "      <td>4.857</td>\n",
       "      <td>5191.0</td>\n",
       "      <td>0</td>\n",
       "      <td>...</td>\n",
       "      <td>0</td>\n",
       "      <td>1</td>\n",
       "      <td>0</td>\n",
       "      <td>0</td>\n",
       "      <td>0</td>\n",
       "      <td>0</td>\n",
       "      <td>1</td>\n",
       "      <td>0</td>\n",
       "      <td>1</td>\n",
       "      <td>0</td>\n",
       "    </tr>\n",
       "    <tr>\n",
       "      <th>3</th>\n",
       "      <td>40</td>\n",
       "      <td>1</td>\n",
       "      <td>999</td>\n",
       "      <td>0</td>\n",
       "      <td>1.1</td>\n",
       "      <td>93.994</td>\n",
       "      <td>-36.4</td>\n",
       "      <td>4.857</td>\n",
       "      <td>5191.0</td>\n",
       "      <td>1</td>\n",
       "      <td>...</td>\n",
       "      <td>0</td>\n",
       "      <td>1</td>\n",
       "      <td>0</td>\n",
       "      <td>0</td>\n",
       "      <td>0</td>\n",
       "      <td>0</td>\n",
       "      <td>1</td>\n",
       "      <td>0</td>\n",
       "      <td>1</td>\n",
       "      <td>0</td>\n",
       "    </tr>\n",
       "    <tr>\n",
       "      <th>4</th>\n",
       "      <td>56</td>\n",
       "      <td>1</td>\n",
       "      <td>999</td>\n",
       "      <td>0</td>\n",
       "      <td>1.1</td>\n",
       "      <td>93.994</td>\n",
       "      <td>-36.4</td>\n",
       "      <td>4.857</td>\n",
       "      <td>5191.0</td>\n",
       "      <td>0</td>\n",
       "      <td>...</td>\n",
       "      <td>0</td>\n",
       "      <td>1</td>\n",
       "      <td>0</td>\n",
       "      <td>0</td>\n",
       "      <td>0</td>\n",
       "      <td>0</td>\n",
       "      <td>1</td>\n",
       "      <td>0</td>\n",
       "      <td>1</td>\n",
       "      <td>0</td>\n",
       "    </tr>\n",
       "    <tr>\n",
       "      <th>...</th>\n",
       "      <td>...</td>\n",
       "      <td>...</td>\n",
       "      <td>...</td>\n",
       "      <td>...</td>\n",
       "      <td>...</td>\n",
       "      <td>...</td>\n",
       "      <td>...</td>\n",
       "      <td>...</td>\n",
       "      <td>...</td>\n",
       "      <td>...</td>\n",
       "      <td>...</td>\n",
       "      <td>...</td>\n",
       "      <td>...</td>\n",
       "      <td>...</td>\n",
       "      <td>...</td>\n",
       "      <td>...</td>\n",
       "      <td>...</td>\n",
       "      <td>...</td>\n",
       "      <td>...</td>\n",
       "      <td>...</td>\n",
       "      <td>...</td>\n",
       "    </tr>\n",
       "    <tr>\n",
       "      <th>41183</th>\n",
       "      <td>73</td>\n",
       "      <td>1</td>\n",
       "      <td>999</td>\n",
       "      <td>0</td>\n",
       "      <td>-1.1</td>\n",
       "      <td>94.767</td>\n",
       "      <td>-50.8</td>\n",
       "      <td>1.028</td>\n",
       "      <td>4963.6</td>\n",
       "      <td>0</td>\n",
       "      <td>...</td>\n",
       "      <td>1</td>\n",
       "      <td>0</td>\n",
       "      <td>0</td>\n",
       "      <td>0</td>\n",
       "      <td>0</td>\n",
       "      <td>0</td>\n",
       "      <td>1</td>\n",
       "      <td>0</td>\n",
       "      <td>0</td>\n",
       "      <td>1</td>\n",
       "    </tr>\n",
       "    <tr>\n",
       "      <th>41184</th>\n",
       "      <td>46</td>\n",
       "      <td>1</td>\n",
       "      <td>999</td>\n",
       "      <td>0</td>\n",
       "      <td>-1.1</td>\n",
       "      <td>94.767</td>\n",
       "      <td>-50.8</td>\n",
       "      <td>1.028</td>\n",
       "      <td>4963.6</td>\n",
       "      <td>0</td>\n",
       "      <td>...</td>\n",
       "      <td>1</td>\n",
       "      <td>0</td>\n",
       "      <td>0</td>\n",
       "      <td>0</td>\n",
       "      <td>0</td>\n",
       "      <td>0</td>\n",
       "      <td>1</td>\n",
       "      <td>0</td>\n",
       "      <td>1</td>\n",
       "      <td>0</td>\n",
       "    </tr>\n",
       "    <tr>\n",
       "      <th>41185</th>\n",
       "      <td>56</td>\n",
       "      <td>2</td>\n",
       "      <td>999</td>\n",
       "      <td>0</td>\n",
       "      <td>-1.1</td>\n",
       "      <td>94.767</td>\n",
       "      <td>-50.8</td>\n",
       "      <td>1.028</td>\n",
       "      <td>4963.6</td>\n",
       "      <td>0</td>\n",
       "      <td>...</td>\n",
       "      <td>1</td>\n",
       "      <td>0</td>\n",
       "      <td>0</td>\n",
       "      <td>0</td>\n",
       "      <td>0</td>\n",
       "      <td>0</td>\n",
       "      <td>1</td>\n",
       "      <td>0</td>\n",
       "      <td>1</td>\n",
       "      <td>0</td>\n",
       "    </tr>\n",
       "    <tr>\n",
       "      <th>41186</th>\n",
       "      <td>44</td>\n",
       "      <td>1</td>\n",
       "      <td>999</td>\n",
       "      <td>0</td>\n",
       "      <td>-1.1</td>\n",
       "      <td>94.767</td>\n",
       "      <td>-50.8</td>\n",
       "      <td>1.028</td>\n",
       "      <td>4963.6</td>\n",
       "      <td>0</td>\n",
       "      <td>...</td>\n",
       "      <td>1</td>\n",
       "      <td>0</td>\n",
       "      <td>0</td>\n",
       "      <td>0</td>\n",
       "      <td>0</td>\n",
       "      <td>0</td>\n",
       "      <td>1</td>\n",
       "      <td>0</td>\n",
       "      <td>0</td>\n",
       "      <td>1</td>\n",
       "    </tr>\n",
       "    <tr>\n",
       "      <th>41187</th>\n",
       "      <td>74</td>\n",
       "      <td>3</td>\n",
       "      <td>999</td>\n",
       "      <td>1</td>\n",
       "      <td>-1.1</td>\n",
       "      <td>94.767</td>\n",
       "      <td>-50.8</td>\n",
       "      <td>1.028</td>\n",
       "      <td>4963.6</td>\n",
       "      <td>0</td>\n",
       "      <td>...</td>\n",
       "      <td>1</td>\n",
       "      <td>0</td>\n",
       "      <td>0</td>\n",
       "      <td>0</td>\n",
       "      <td>0</td>\n",
       "      <td>1</td>\n",
       "      <td>0</td>\n",
       "      <td>0</td>\n",
       "      <td>1</td>\n",
       "      <td>0</td>\n",
       "    </tr>\n",
       "  </tbody>\n",
       "</table>\n",
       "<p>41188 rows × 64 columns</p>\n",
       "</div>"
      ],
      "text/plain": [
       "       age  campaign  pdays  previous  emp.var.rate  cons.price.idx  \\\n",
       "0       56         1    999         0           1.1          93.994   \n",
       "1       57         1    999         0           1.1          93.994   \n",
       "2       37         1    999         0           1.1          93.994   \n",
       "3       40         1    999         0           1.1          93.994   \n",
       "4       56         1    999         0           1.1          93.994   \n",
       "...    ...       ...    ...       ...           ...             ...   \n",
       "41183   73         1    999         0          -1.1          94.767   \n",
       "41184   46         1    999         0          -1.1          94.767   \n",
       "41185   56         2    999         0          -1.1          94.767   \n",
       "41186   44         1    999         0          -1.1          94.767   \n",
       "41187   74         3    999         1          -1.1          94.767   \n",
       "\n",
       "       cons.conf.idx  euribor3m  nr.employed  job_admin.  ...  \\\n",
       "0              -36.4      4.857       5191.0           0  ...   \n",
       "1              -36.4      4.857       5191.0           0  ...   \n",
       "2              -36.4      4.857       5191.0           0  ...   \n",
       "3              -36.4      4.857       5191.0           1  ...   \n",
       "4              -36.4      4.857       5191.0           0  ...   \n",
       "...              ...        ...          ...         ...  ...   \n",
       "41183          -50.8      1.028       4963.6           0  ...   \n",
       "41184          -50.8      1.028       4963.6           0  ...   \n",
       "41185          -50.8      1.028       4963.6           0  ...   \n",
       "41186          -50.8      1.028       4963.6           0  ...   \n",
       "41187          -50.8      1.028       4963.6           0  ...   \n",
       "\n",
       "       day_of_week_fri  day_of_week_mon  day_of_week_thu  day_of_week_tue  \\\n",
       "0                    0                1                0                0   \n",
       "1                    0                1                0                0   \n",
       "2                    0                1                0                0   \n",
       "3                    0                1                0                0   \n",
       "4                    0                1                0                0   \n",
       "...                ...              ...              ...              ...   \n",
       "41183                1                0                0                0   \n",
       "41184                1                0                0                0   \n",
       "41185                1                0                0                0   \n",
       "41186                1                0                0                0   \n",
       "41187                1                0                0                0   \n",
       "\n",
       "       day_of_week_wed  poutcome_failure  poutcome_nonexistent  \\\n",
       "0                    0                 0                     1   \n",
       "1                    0                 0                     1   \n",
       "2                    0                 0                     1   \n",
       "3                    0                 0                     1   \n",
       "4                    0                 0                     1   \n",
       "...                ...               ...                   ...   \n",
       "41183                0                 0                     1   \n",
       "41184                0                 0                     1   \n",
       "41185                0                 0                     1   \n",
       "41186                0                 0                     1   \n",
       "41187                0                 1                     0   \n",
       "\n",
       "       poutcome_success  y_no  y_yes  \n",
       "0                     0     1      0  \n",
       "1                     0     1      0  \n",
       "2                     0     1      0  \n",
       "3                     0     1      0  \n",
       "4                     0     1      0  \n",
       "...                 ...   ...    ...  \n",
       "41183                 0     0      1  \n",
       "41184                 0     1      0  \n",
       "41185                 0     1      0  \n",
       "41186                 0     0      1  \n",
       "41187                 0     1      0  \n",
       "\n",
       "[41188 rows x 64 columns]"
      ]
     },
     "execution_count": 4,
     "metadata": {},
     "output_type": "execute_result"
    }
   ],
   "source": [
    "features_to_encode = ['job', 'marital', 'education', 'default', 'housing', 'loan', 'contact', 'month', 'day_of_week', 'poutcome', 'y']\n",
    "for feature in features_to_encode:\n",
    "    df = encode_and_bind(df, feature)\n",
    "df"
   ]
  },
  {
   "cell_type": "code",
   "execution_count": 5,
   "id": "a29c449c",
   "metadata": {},
   "outputs": [
    {
     "data": {
      "text/plain": [
       "array([[ 56.,   1., 999., ...,   1.,   0.,   1.],\n",
       "       [ 57.,   1., 999., ...,   1.,   0.,   1.],\n",
       "       [ 37.,   1., 999., ...,   1.,   0.,   1.],\n",
       "       ...,\n",
       "       [ 56.,   2., 999., ...,   1.,   0.,   1.],\n",
       "       [ 44.,   1., 999., ...,   1.,   0.,   0.],\n",
       "       [ 74.,   3., 999., ...,   0.,   0.,   1.]])"
      ]
     },
     "execution_count": 5,
     "metadata": {},
     "output_type": "execute_result"
    }
   ],
   "source": [
    "x = df.iloc[:,0:63].values #features\n",
    "y = df.iloc[:,63].values # target\n",
    "x"
   ]
  },
  {
   "cell_type": "code",
   "execution_count": 6,
   "id": "0f247a34",
   "metadata": {},
   "outputs": [
    {
     "data": {
      "text/plain": [
       "array([0, 0, 0, ..., 0, 1, 0], dtype=uint8)"
      ]
     },
     "execution_count": 6,
     "metadata": {},
     "output_type": "execute_result"
    }
   ],
   "source": [
    "y"
   ]
  },
  {
   "cell_type": "code",
   "execution_count": 7,
   "id": "5ee028fa",
   "metadata": {},
   "outputs": [],
   "source": [
    "#Create scaler\n",
    "scaler = preprocessing.StandardScaler()"
   ]
  },
  {
   "cell_type": "code",
   "execution_count": 8,
   "id": "d40ecba2",
   "metadata": {},
   "outputs": [],
   "source": [
    "#Transform the feature\n",
    "features_standardized = scaler.fit_transform(x)"
   ]
  },
  {
   "cell_type": "code",
   "execution_count": 9,
   "id": "dce352d7",
   "metadata": {},
   "outputs": [],
   "source": [
    "#Splitting into train and test sets\n",
    "features_train, features_test, target_train, target_test = train_test_split(features_standardized,y,test_size = 0.5, random_state = 0)"
   ]
  },
  {
   "cell_type": "markdown",
   "id": "aedef6be",
   "metadata": {},
   "source": [
    "# Network with l2 regulization"
   ]
  },
  {
   "cell_type": "code",
   "execution_count": 10,
   "id": "91be10b0",
   "metadata": {},
   "outputs": [],
   "source": [
    "# Load libraries\n",
    "import numpy as np\n",
    "from keras.datasets import imdb\n",
    "from keras.preprocessing.text import Tokenizer\n",
    "from keras import models\n",
    "from keras import layers\n",
    "from keras import regularizers"
   ]
  },
  {
   "cell_type": "code",
   "execution_count": 11,
   "id": "fe0426ab",
   "metadata": {},
   "outputs": [],
   "source": [
    "# Start neural network\n",
    "network = models.Sequential()\n",
    "# Add fully connected layer with a ReLU activation function\n",
    "network.add(layers.Dense(units=16, activation=\"relu\", kernel_regularizer=regularizers.l2(0.01), input_shape=(\n",
    "number_of_features,)))\n",
    "# Add fully connected layer with a ReLU activation function\n",
    "network.add(layers.Dense(units=16, kernel_regularizer=regularizers.l2(0.01), activation=\"relu\"))\n",
    "# Add fully connected layer with a sigmoid activation function\n",
    "network.add(layers.Dense(units=1, activation=\"sigmoid\"))\n",
    "# Compile neural network\n",
    "network.compile(loss=\"binary_crossentropy\", # Cross-entropy\n",
    "optimizer=\"rmsprop\", # Root Mean Square Propagation\n",
    "metrics=[\"accuracy\"]) # Accuracy performance metric"
   ]
  },
  {
   "cell_type": "code",
   "execution_count": 12,
   "id": "ed3bf304",
   "metadata": {},
   "outputs": [
    {
     "name": "stdout",
     "output_type": "stream",
     "text": [
      "Epoch 1/10\n",
      "21/21 [==============================] - 3s 21ms/step - loss: 0.8356 - accuracy: 0.8512 - val_loss: 0.7449 - val_accuracy: 0.8853\n",
      "Epoch 2/10\n",
      "21/21 [==============================] - 0s 5ms/step - loss: 0.6880 - accuracy: 0.8861 - val_loss: 0.6328 - val_accuracy: 0.8891\n",
      "Epoch 3/10\n",
      "21/21 [==============================] - 0s 5ms/step - loss: 0.5871 - accuracy: 0.8907 - val_loss: 0.5422 - val_accuracy: 0.8985\n",
      "Epoch 4/10\n",
      "21/21 [==============================] - 0s 5ms/step - loss: 0.5023 - accuracy: 0.9040 - val_loss: 0.4627 - val_accuracy: 0.9137\n",
      "Epoch 5/10\n",
      "21/21 [==============================] - 0s 6ms/step - loss: 0.4265 - accuracy: 0.9206 - val_loss: 0.3905 - val_accuracy: 0.9284\n",
      "Epoch 6/10\n",
      "21/21 [==============================] - 0s 6ms/step - loss: 0.3579 - accuracy: 0.9379 - val_loss: 0.3262 - val_accuracy: 0.9475\n",
      "Epoch 7/10\n",
      "21/21 [==============================] - 0s 5ms/step - loss: 0.2969 - accuracy: 0.9571 - val_loss: 0.2691 - val_accuracy: 0.9695\n",
      "Epoch 8/10\n",
      "21/21 [==============================] - 0s 5ms/step - loss: 0.2441 - accuracy: 0.9777 - val_loss: 0.2203 - val_accuracy: 0.9874\n",
      "Epoch 9/10\n",
      "21/21 [==============================] - 0s 6ms/step - loss: 0.1999 - accuracy: 0.9924 - val_loss: 0.1808 - val_accuracy: 0.9960\n",
      "Epoch 10/10\n",
      "21/21 [==============================] - 0s 5ms/step - loss: 0.1644 - accuracy: 0.9982 - val_loss: 0.1490 - val_accuracy: 0.9994\n"
     ]
    }
   ],
   "source": [
    "# Train neural network\n",
    "history = network.fit(features_train, # Features\n",
    "target_train, # Target vector\n",
    "epochs=10, # Number of epochs\n",
    "verbose=1, # Print description after each epoch\n",
    "batch_size=1000, # Number of observations per batch\n",
    "validation_data=(features_test, target_test)) # Test data"
   ]
  },
  {
   "cell_type": "code",
   "execution_count": 13,
   "id": "5cfef44c",
   "metadata": {},
   "outputs": [
    {
     "data": {
      "text/plain": [
       "array([[0.71141976],\n",
       "       [0.01499358],\n",
       "       [0.01900172],\n",
       "       ...,\n",
       "       [0.01638535],\n",
       "       [0.74875176],\n",
       "       [0.01795194]], dtype=float32)"
      ]
     },
     "execution_count": 13,
     "metadata": {},
     "output_type": "execute_result"
    }
   ],
   "source": [
    "# Predict classes of test set\n",
    "predicted_target = network.predict(features_test)\n",
    "predicted_target"
   ]
  },
  {
   "cell_type": "code",
   "execution_count": 14,
   "id": "6e0c2eac",
   "metadata": {},
   "outputs": [
    {
     "data": {
      "text/plain": [
       "array([0.01499358], dtype=float32)"
      ]
     },
     "execution_count": 14,
     "metadata": {},
     "output_type": "execute_result"
    }
   ],
   "source": [
    "# View the probability the first observation is class 1\n",
    "predicted_target[1]"
   ]
  },
  {
   "cell_type": "markdown",
   "id": "e8ff265b",
   "metadata": {},
   "source": [
    "# Visualise loss and accuracy"
   ]
  },
  {
   "cell_type": "code",
   "execution_count": 15,
   "id": "53569755",
   "metadata": {},
   "outputs": [],
   "source": [
    "# Get training and test loss histories\n",
    "training_loss = history.history[\"loss\"]\n",
    "test_loss = history.history[\"val_loss\"]\n",
    "# Create count of the number of epochs\n",
    "epoch_count = range(1, len(training_loss) + 1)"
   ]
  },
  {
   "cell_type": "code",
   "execution_count": 16,
   "id": "d48732be",
   "metadata": {},
   "outputs": [
    {
     "data": {
      "image/png": "[encoded data removed]",
      "text/plain": [
       "<Figure size 432x288 with 1 Axes>"
      ]
     },
     "metadata": {
      "needs_background": "light"
     },
     "output_type": "display_data"
    }
   ],
   "source": [
    "import matplotlib.pyplot as plt\n",
    "# Visualize loss history\n",
    "plt.plot(epoch_count, training_loss, \"r--\")\n",
    "plt.plot(epoch_count, test_loss, \"b-\")\n",
    "plt.legend([\"Training Loss\", \"Test Loss\"])\n",
    "plt.xlabel(\"Epoch\")\n",
    "plt.ylabel(\"Loss\")\n",
    "plt.show()"
   ]
  },
  {
   "cell_type": "code",
   "execution_count": 17,
   "id": "4946dabc",
   "metadata": {},
   "outputs": [],
   "source": [
    "training_accuracy = history.history[\"accuracy\"]\n",
    "test_accuracy = history.history[\"val_accuracy\"]"
   ]
  },
  {
   "cell_type": "code",
   "execution_count": 18,
   "id": "857acc0e",
   "metadata": {},
   "outputs": [
    {
     "data": {
      "image/png": "[encoded data removed]",
      "text/plain": [
       "<Figure size 432x288 with 1 Axes>"
      ]
     },
     "metadata": {
      "needs_background": "light"
     },
     "output_type": "display_data"
    }
   ],
   "source": [
    "plt.plot(epoch_count, training_accuracy, \"r--\")\n",
    "plt.plot(epoch_count, test_accuracy, \"b-\")\n",
    "# Visualize accuracy history\n",
    "plt.legend([\"Training Accuracy\", \"Test Accuracy\"])\n",
    "plt.xlabel(\"Epoch\")\n",
    "plt.ylabel(\"Accuracy Score\")\n",
    "plt.show()"
   ]
  },
  {
   "cell_type": "markdown",
   "id": "603898a8",
   "metadata": {},
   "source": [
    "# Visualize netwok architecture"
   ]
  },
  {
   "cell_type": "code",
   "execution_count": 19,
   "id": "fc438240",
   "metadata": {},
   "outputs": [],
   "source": [
    "from IPython.display import SVG\n",
    "from keras.utils.vis_utils import model_to_dot\n",
    "from keras.utils.vis_utils import plot_model"
   ]
  },
  {
   "cell_type": "code",
   "execution_count": 20,
   "id": "708f6132",
   "metadata": {},
   "outputs": [
    {
     "data": {
      "image/svg+xml": [
       "<svg xmlns=\"http://www.w3.org/2000/svg\" xmlns:xlink=\"http://www.w3.org/1999/xlink\" width=\"281pt\" height=\"274pt\" viewBox=\"0.00 0.00 311.00 304.00\">\n",
       "<g id=\"graph0\" class=\"graph\" transform=\"scale(0.9 0.9) rotate(0) translate(4 300)\">\n",
       "<title>G</title>\n",
       "<polygon fill=\"white\" stroke=\"transparent\" points=\"-4,4 -4,-300 307,-300 307,4 -4,4\"/>\n",
       "<!-- 2228684999840 -->\n",
       "<g id=\"node1\" class=\"node\">\n",
       "<title>2228684999840</title>\n",
       "<polygon fill=\"none\" stroke=\"black\" points=\"0,-249.5 0,-295.5 303,-295.5 303,-249.5 0,-249.5\"/>\n",
       "<text text-anchor=\"middle\" x=\"42\" y=\"-268.8\" font-family=\"Times New Roman,serif\" font-size=\"14.00\">dense_input</text>\n",
       "<polyline fill=\"none\" stroke=\"black\" points=\"84,-249.5 84,-295.5 \"/>\n",
       "<text text-anchor=\"middle\" x=\"122.5\" y=\"-268.8\" font-family=\"Times New Roman,serif\" font-size=\"14.00\">InputLayer</text>\n",
       "<polyline fill=\"none\" stroke=\"black\" points=\"161,-249.5 161,-295.5 \"/>\n",
       "<text text-anchor=\"middle\" x=\"189\" y=\"-280.3\" font-family=\"Times New Roman,serif\" font-size=\"14.00\">input:</text>\n",
       "<polyline fill=\"none\" stroke=\"black\" points=\"161,-272.5 217,-272.5 \"/>\n",
       "<text text-anchor=\"middle\" x=\"189\" y=\"-257.3\" font-family=\"Times New Roman,serif\" font-size=\"14.00\">output:</text>\n",
       "<polyline fill=\"none\" stroke=\"black\" points=\"217,-249.5 217,-295.5 \"/>\n",
       "<text text-anchor=\"middle\" x=\"260\" y=\"-280.3\" font-family=\"Times New Roman,serif\" font-size=\"14.00\">[(None, 63)]</text>\n",
       "<polyline fill=\"none\" stroke=\"black\" points=\"217,-272.5 303,-272.5 \"/>\n",
       "<text text-anchor=\"middle\" x=\"260\" y=\"-257.3\" font-family=\"Times New Roman,serif\" font-size=\"14.00\">[(None, 63)]</text>\n",
       "</g>\n",
       "<!-- 2228684999792 -->\n",
       "<g id=\"node2\" class=\"node\">\n",
       "<title>2228684999792</title>\n",
       "<polygon fill=\"none\" stroke=\"black\" points=\"35,-166.5 35,-212.5 268,-212.5 268,-166.5 35,-166.5\"/>\n",
       "<text text-anchor=\"middle\" x=\"59.5\" y=\"-185.8\" font-family=\"Times New Roman,serif\" font-size=\"14.00\">dense</text>\n",
       "<polyline fill=\"none\" stroke=\"black\" points=\"84,-166.5 84,-212.5 \"/>\n",
       "<text text-anchor=\"middle\" x=\"109.5\" y=\"-185.8\" font-family=\"Times New Roman,serif\" font-size=\"14.00\">Dense</text>\n",
       "<polyline fill=\"none\" stroke=\"black\" points=\"135,-166.5 135,-212.5 \"/>\n",
       "<text text-anchor=\"middle\" x=\"163\" y=\"-197.3\" font-family=\"Times New Roman,serif\" font-size=\"14.00\">input:</text>\n",
       "<polyline fill=\"none\" stroke=\"black\" points=\"135,-189.5 191,-189.5 \"/>\n",
       "<text text-anchor=\"middle\" x=\"163\" y=\"-174.3\" font-family=\"Times New Roman,serif\" font-size=\"14.00\">output:</text>\n",
       "<polyline fill=\"none\" stroke=\"black\" points=\"191,-166.5 191,-212.5 \"/>\n",
       "<text text-anchor=\"middle\" x=\"229.5\" y=\"-197.3\" font-family=\"Times New Roman,serif\" font-size=\"14.00\">(None, 63)</text>\n",
       "<polyline fill=\"none\" stroke=\"black\" points=\"191,-189.5 268,-189.5 \"/>\n",
       "<text text-anchor=\"middle\" x=\"229.5\" y=\"-174.3\" font-family=\"Times New Roman,serif\" font-size=\"14.00\">(None, 16)</text>\n",
       "</g>\n",
       "<!-- 2228684999840&#45;&gt;2228684999792 -->\n",
       "<g id=\"edge1\" class=\"edge\">\n",
       "<title>2228684999840-&gt;2228684999792</title>\n",
       "<path fill=\"none\" stroke=\"black\" d=\"M151.5,-249.37C151.5,-241.15 151.5,-231.66 151.5,-222.73\"/>\n",
       "<polygon fill=\"black\" stroke=\"black\" points=\"155,-222.61 151.5,-212.61 148,-222.61 155,-222.61\"/>\n",
       "</g>\n",
       "<!-- 2228685265744 -->\n",
       "<g id=\"node3\" class=\"node\">\n",
       "<title>2228685265744</title>\n",
       "<polygon fill=\"none\" stroke=\"black\" points=\"28,-83.5 28,-129.5 275,-129.5 275,-83.5 28,-83.5\"/>\n",
       "<text text-anchor=\"middle\" x=\"59.5\" y=\"-102.8\" font-family=\"Times New Roman,serif\" font-size=\"14.00\">dense_1</text>\n",
       "<polyline fill=\"none\" stroke=\"black\" points=\"91,-83.5 91,-129.5 \"/>\n",
       "<text text-anchor=\"middle\" x=\"116.5\" y=\"-102.8\" font-family=\"Times New Roman,serif\" font-size=\"14.00\">Dense</text>\n",
       "<polyline fill=\"none\" stroke=\"black\" points=\"142,-83.5 142,-129.5 \"/>\n",
       "<text text-anchor=\"middle\" x=\"170\" y=\"-114.3\" font-family=\"Times New Roman,serif\" font-size=\"14.00\">input:</text>\n",
       "<polyline fill=\"none\" stroke=\"black\" points=\"142,-106.5 198,-106.5 \"/>\n",
       "<text text-anchor=\"middle\" x=\"170\" y=\"-91.3\" font-family=\"Times New Roman,serif\" font-size=\"14.00\">output:</text>\n",
       "<polyline fill=\"none\" stroke=\"black\" points=\"198,-83.5 198,-129.5 \"/>\n",
       "<text text-anchor=\"middle\" x=\"236.5\" y=\"-114.3\" font-family=\"Times New Roman,serif\" font-size=\"14.00\">(None, 16)</text>\n",
       "<polyline fill=\"none\" stroke=\"black\" points=\"198,-106.5 275,-106.5 \"/>\n",
       "<text text-anchor=\"middle\" x=\"236.5\" y=\"-91.3\" font-family=\"Times New Roman,serif\" font-size=\"14.00\">(None, 16)</text>\n",
       "</g>\n",
       "<!-- 2228684999792&#45;&gt;2228685265744 -->\n",
       "<g id=\"edge2\" class=\"edge\">\n",
       "<title>2228684999792-&gt;2228685265744</title>\n",
       "<path fill=\"none\" stroke=\"black\" d=\"M151.5,-166.37C151.5,-158.15 151.5,-148.66 151.5,-139.73\"/>\n",
       "<polygon fill=\"black\" stroke=\"black\" points=\"155,-139.61 151.5,-129.61 148,-139.61 155,-139.61\"/>\n",
       "</g>\n",
       "<!-- 2228685264784 -->\n",
       "<g id=\"node4\" class=\"node\">\n",
       "<title>2228685264784</title>\n",
       "<polygon fill=\"none\" stroke=\"black\" points=\"28,-0.5 28,-46.5 275,-46.5 275,-0.5 28,-0.5\"/>\n",
       "<text text-anchor=\"middle\" x=\"59.5\" y=\"-19.8\" font-family=\"Times New Roman,serif\" font-size=\"14.00\">dense_2</text>\n",
       "<polyline fill=\"none\" stroke=\"black\" points=\"91,-0.5 91,-46.5 \"/>\n",
       "<text text-anchor=\"middle\" x=\"116.5\" y=\"-19.8\" font-family=\"Times New Roman,serif\" font-size=\"14.00\">Dense</text>\n",
       "<polyline fill=\"none\" stroke=\"black\" points=\"142,-0.5 142,-46.5 \"/>\n",
       "<text text-anchor=\"middle\" x=\"170\" y=\"-31.3\" font-family=\"Times New Roman,serif\" font-size=\"14.00\">input:</text>\n",
       "<polyline fill=\"none\" stroke=\"black\" points=\"142,-23.5 198,-23.5 \"/>\n",
       "<text text-anchor=\"middle\" x=\"170\" y=\"-8.3\" font-family=\"Times New Roman,serif\" font-size=\"14.00\">output:</text>\n",
       "<polyline fill=\"none\" stroke=\"black\" points=\"198,-0.5 198,-46.5 \"/>\n",
       "<text text-anchor=\"middle\" x=\"236.5\" y=\"-31.3\" font-family=\"Times New Roman,serif\" font-size=\"14.00\">(None, 16)</text>\n",
       "<polyline fill=\"none\" stroke=\"black\" points=\"198,-23.5 275,-23.5 \"/>\n",
       "<text text-anchor=\"middle\" x=\"236.5\" y=\"-8.3\" font-family=\"Times New Roman,serif\" font-size=\"14.00\">(None, 1)</text>\n",
       "</g>\n",
       "<!-- 2228685265744&#45;&gt;2228685264784 -->\n",
       "<g id=\"edge3\" class=\"edge\">\n",
       "<title>2228685265744-&gt;2228685264784</title>\n",
       "<path fill=\"none\" stroke=\"black\" d=\"M151.5,-83.37C151.5,-75.15 151.5,-65.66 151.5,-56.73\"/>\n",
       "<polygon fill=\"black\" stroke=\"black\" points=\"155,-56.61 151.5,-46.61 148,-56.61 155,-56.61\"/>\n",
       "</g>\n",
       "</g>\n",
       "</svg>"
      ],
      "text/plain": [
       "<IPython.core.display.SVG object>"
      ]
     },
     "execution_count": 20,
     "metadata": {},
     "output_type": "execute_result"
    }
   ],
   "source": [
    "# Visualize network architecture\n",
    "SVG(model_to_dot(network, show_shapes=True, dpi=65).create(prog=\"dot\", format=\"svg\"))"
   ]
  },
  {
   "cell_type": "code",
   "execution_count": null,
   "id": "95022216",
   "metadata": {},
   "outputs": [],
   "source": []
  },
  {
   "cell_type": "code",
   "execution_count": null,
   "id": "6d09227f",
   "metadata": {},
   "outputs": [],
   "source": []
  },
  {
   "cell_type": "code",
   "execution_count": null,
   "id": "8588d5a8",
   "metadata": {},
   "outputs": [],
   "source": []
  }
 ],
 "metadata": {
  "kernelspec": {
   "display_name": "Python 3 (ipykernel)",
   "language": "python",
   "name": "python3"
  },
  "language_info": {
   "codemirror_mode": {
    "name": "ipython",
    "version": 3
   },
   "file_extension": ".py",
   "mimetype": "text/x-python",
   "name": "python",
   "nbconvert_exporter": "python",
   "pygments_lexer": "ipython3",
   "version": "3.8.7"
  }
 },
 "nbformat": 4,
 "nbformat_minor": 5
}
